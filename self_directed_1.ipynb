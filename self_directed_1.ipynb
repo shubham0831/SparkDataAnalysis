{
 "cells": [
  {
   "cell_type": "code",
   "execution_count": 1,
   "metadata": {
    "cell_status": {
     "execute_time": {
      "duration": 258.641845703125,
      "end_time": 1671521376545.764
     }
    }
   },
   "outputs": [
    {
     "name": "stdout",
     "output_type": "stream",
     "text": [
      "Starting Spark application\n"
     ]
    },
    {
     "data": {
      "text/html": [
       "<table>\n",
       "<tr><th>ID</th><th>YARN Application ID</th><th>Kind</th><th>State</th><th>Spark UI</th><th>Driver log</th><th>Current session?</th></tr><tr><td>69</td><td>application_1671409217564_0091</td><td>pyspark3</td><td>idle</td><td><a target=\"_blank\" href=\"http://hn0-swartz.pkreb2nbje4u5lxwjqb1g1mune.dx.internal.cloudapp.net:8088/proxy/application_1671409217564_0091/\">Link</a></td><td><a target=\"_blank\" href=\"http://wn9-swartz.pkreb2nbje4u5lxwjqb1g1mune.dx.internal.cloudapp.net:30060/node/containerlogs/container_1671409217564_0091_01_000001/livy\">Link</a></td><td>✔</td></tr></table>"
      ],
      "text/plain": [
       "<IPython.core.display.HTML object>"
      ]
     },
     "metadata": {},
     "output_type": "display_data"
    },
    {
     "name": "stdout",
     "output_type": "stream",
     "text": [
      "SparkSession available as 'spark'.\n"
     ]
    }
   ],
   "source": [
    "from pyspark.sql.types import StructType, StructField, StringType, IntegerType, BooleanType, LongType\n",
    "from pyspark.sql.functions import *\n",
    "from operator import add"
   ]
  },
  {
   "cell_type": "code",
   "execution_count": 2,
   "metadata": {
    "cell_status": {
     "execute_time": {
      "duration": 5290.638916015625,
      "end_time": 1671521381853.293
     }
    }
   },
   "outputs": [
    {
     "name": "stdout",
     "output_type": "stream",
     "text": [
      "root\n",
      " |-- subreddit: string (nullable = true)\n",
      " |-- author: string (nullable = true)\n",
      " |-- author_premium: boolean (nullable = true)\n",
      " |-- score: long (nullable = true)"
     ]
    }
   ],
   "source": [
    "filePath = 'abfs://dda-2022-12-15t21-04-18-212z@ddasta.dfs.core.windows.net/reddit/2020/'\n",
    "years = ['RC_2020-01.json', 'RC_2020-02.json', 'RC_2020-03.json', 'RC_2020-04.json', 'RC_2020-05.json', 'RC_2020-06.json', 'RC_2020-07.json', 'RC_2020-08.json', 'RC_2020-09.json', 'RC_2020-10.json', 'RC_2020-11.json', 'RC_2020-12.json']\n",
    "jsonFiles = []\n",
    "\n",
    "for year in years:\n",
    "    path = filePath+year\n",
    "    jsonFiles.append(path)\n",
    "\n",
    "schema = StructType([\n",
    "        StructField('subreddit', StringType(), nullable=True),\n",
    "        StructField('author', StringType(), nullable=True),\n",
    "        StructField('author_premium', BooleanType(), nullable=True),\n",
    "        StructField('score', LongType(), nullable=True)\n",
    "        ])\n",
    "\n",
    "df = spark.createDataFrame(spark.sparkContext.emptyRDD(), schema)\n",
    "# Loop through the list of JSON files and read them\n",
    "for file in jsonFiles:\n",
    "    temp_df = spark.read.json(file, schema=schema)\n",
    "    df = df.union(temp_df)\n",
    "\n",
    "df.printSchema()"
   ]
  },
  {
   "cell_type": "code",
   "execution_count": 3,
   "metadata": {
    "cell_status": {
     "execute_time": {
      "duration": 764.61181640625,
      "end_time": 1671521382632.86
     }
    },
    "collapsed": true
   },
   "outputs": [],
   "source": [
    "premiumAuthors = df.filter(df.author_premium == True)\n",
    "nonPremiumAuthors = df.filter(df.author_premium != True)"
   ]
  },
  {
   "cell_type": "markdown",
   "metadata": {},
   "source": [
    "# Self Directed Analysis - 1 Premium vs Non-Premium Users\n",
    "\n",
    "## Q) Are premium users more active than users who are not premium\n",
    "\n",
    "### Before Analysis Asssumption\n",
    "\n",
    "Yes, these are users who pay for an essentially free service. Normally one would guess that it's because they are so active on reddit, that they think it's well worth their money to actually be able to give and receive awards and overall have the feeling of a \"standing out\" on reddit\n",
    "\n",
    "## Q) Do premium users get more upvotes on their comments than non-premium user\n",
    "\n",
    "### Before Analysis Assumption\n",
    "\n",
    "Honestly, not really sure. Maybe they are on premium because they \"know\" how to play the reddit \"game\" - essentially gathering as many upvotes as possible. But at the same time on an anonymous social media site like Reddit, people might not care about the other user being a \"premium\" user.\n",
    "In fact knowing about reddit, people might just downvote them because they are premium users! \n",
    "\n",
    "Another question - an not really sure how we can find this out accurately is, whether reddit promotes these premium users more.\n",
    "A better way of doing this can be comparing the average comment of a premium user to that of a non-premium user, active in the same subreddit. But this can be tricky, since context matters alot, and this dataset does not explicitly provide that.\n",
    "\n",
    "## Q) Whats the subreddit with the highest average of premium users\n",
    "\n",
    "### Before Analysis Assumption\n",
    "\n",
    "Again, don't really know, might be some popular subreddit such as askreddit for instance, but not sure\n"
   ]
  },
  {
   "cell_type": "markdown",
   "metadata": {},
   "source": [
    "# Are Premium users more active on reddit than non premium users?\n",
    "\n",
    "\n",
    "\n",
    "\n",
    "\n",
    "* 2020 data only"
   ]
  },
  {
   "cell_type": "code",
   "execution_count": 4,
   "metadata": {
    "cell_status": {
     "execute_time": {
      "duration": 262.14013671875,
      "end_time": 1671488364581.73
     }
    }
   },
   "outputs": [],
   "source": [
    "averageNumberOfPostsPremium = premiumAuthors.groupBy(premiumAuthors.author)\\\n",
    "                                .count()\\\n",
    "                                .alias(\"count\")"
   ]
  },
  {
   "cell_type": "code",
   "execution_count": 5,
   "metadata": {
    "cell_status": {
     "execute_time": {
      "duration": 44.406005859375,
      "end_time": 1671488364641.689
     }
    }
   },
   "outputs": [
    {
     "name": "stdout",
     "output_type": "stream",
     "text": [
      "<class 'pyspark.sql.dataframe.DataFrame'>"
     ]
    }
   ],
   "source": [
    "type(averageNumberOfPostsPremium)"
   ]
  },
  {
   "cell_type": "code",
   "execution_count": 6,
   "metadata": {
    "cell_status": {
     "execute_time": {
      "duration": 250.798828125,
      "end_time": 1671488364906.89
     }
    }
   },
   "outputs": [],
   "source": [
    "averageNumberOfPostsPremium = averageNumberOfPostsPremium.agg(avg(col(\"count\")))"
   ]
  },
  {
   "cell_type": "code",
   "execution_count": 7,
   "metadata": {
    "cell_status": {
     "execute_time": {
      "duration": 2167840.718017578,
      "end_time": 1671490532762.107
     }
    }
   },
   "outputs": [
    {
     "name": "stdout",
     "output_type": "stream",
     "text": [
      "+------------------+\n",
      "|        avg(count)|\n",
      "+------------------+\n",
      "|205.88356448637913|\n",
      "+------------------+"
     ]
    }
   ],
   "source": [
    "averageNumberOfPostsPremium.show()"
   ]
  },
  {
   "cell_type": "code",
   "execution_count": 9,
   "metadata": {
    "cell_status": {
     "execute_time": {
      "duration": 250.01318359375,
      "end_time": 1671490533338.61
     }
    },
    "collapsed": true
   },
   "outputs": [],
   "source": [
    "averageNumberOfPostsNormal = nonPremiumAuthors.groupBy(nonPremiumAuthors.author)\\\n",
    "                                .count()\\\n",
    "                                .alias(\"count\")\n",
    "\n",
    "averageNumberOfPostsNormal = averageNumberOfPostsNormal.agg(avg(col(\"count\")))"
   ]
  },
  {
   "cell_type": "code",
   "execution_count": 10,
   "metadata": {
    "cell_status": {
     "execute_time": {
      "duration": 2749588,
      "end_time": 1671493282951.807
     }
    }
   },
   "outputs": [
    {
     "name": "stdout",
     "output_type": "stream",
     "text": [
      "+------------------+\n",
      "|        avg(count)|\n",
      "+------------------+\n",
      "|61.885745011191894|\n",
      "+------------------+"
     ]
    }
   ],
   "source": [
    "averageNumberOfPostsNormal.show()"
   ]
  },
  {
   "cell_type": "markdown",
   "metadata": {},
   "source": [
    "## Finding\n",
    "\n",
    "As seen form the above averages, premium users are much more active on reddit than non-premium users. Aout 3.5 times as much. \n",
    "\n",
    "Although the dataset might be a bit skewed, since there are alot of non-premium users with only 1 or 2 comments, and that can skew the results\n",
    "\n",
    "In contrast, as metioned earlier, you only take the premium membership, if you are an active member of reddit (or have cash to burn, in which case lemme know!)"
   ]
  },
  {
   "cell_type": "markdown",
   "metadata": {},
   "source": [
    "# What subreddit with the highest average count of premium users"
   ]
  },
  {
   "cell_type": "code",
   "execution_count": 12,
   "metadata": {
    "cell_status": {
     "execute_time": {
      "duration": 255.074951171875,
      "end_time": 1671510429415.462
     }
    }
   },
   "outputs": [],
   "source": [
    "subredditPremiumUser = df.filter(col(\"author_premium\") == True)\\\n",
    "                            .groupBy(\"subreddit\")\\\n",
    "                            .count()\\\n",
    "                            .alias(\"count\")\\\n",
    "                            .sort(desc(\"count\"))"
   ]
  },
  {
   "cell_type": "code",
   "execution_count": 13,
   "metadata": {
    "cell_status": {
     "execute_time": {
      "duration": 87.3369140625,
      "end_time": 1671510432408.445
     }
    }
   },
   "outputs": [
    {
     "name": "stdout",
     "output_type": "stream",
     "text": [
      "<class 'pyspark.sql.dataframe.DataFrame'>"
     ]
    }
   ],
   "source": [
    "type(subredditPremiumUser)"
   ]
  },
  {
   "cell_type": "code",
   "execution_count": 14,
   "metadata": {
    "cell_status": {
     "execute_time": {
      "duration": 1630364.7709960938,
      "end_time": 1671512063522.317
     }
    }
   },
   "outputs": [
    {
     "name": "stdout",
     "output_type": "stream",
     "text": [
      "[Row(subreddit='AskReddit', count=4218891), Row(subreddit='politics', count=2792589), Row(subreddit='memes', count=1861198), Row(subreddit='wallstreetbets', count=1822647), Row(subreddit='dankmemes', count=1347485)]"
     ]
    }
   ],
   "source": [
    "subredditPremiumUser.take(5)"
   ]
  },
  {
   "cell_type": "code",
   "execution_count": 21,
   "metadata": {
    "cell_status": {
     "execute_time": {
      "duration": 253.6650390625,
      "end_time": 1671517531334.602
     }
    },
    "collapsed": true
   },
   "outputs": [],
   "source": [
    "subredditNormalUser = df.filter(col(\"author_premium\") == False)\\\n",
    "                            .groupBy(\"subreddit\")\\\n",
    "                            .count()\\\n",
    "                            .alias(\"count\")\\\n",
    "                            .sort(desc(\"count\"))"
   ]
  },
  {
   "cell_type": "code",
   "execution_count": 22,
   "metadata": {
    "cell_status": {
     "execute_time": {
      "duration": 1760747.6069335938,
      "end_time": 1671519299864.884
     }
    }
   },
   "outputs": [
    {
     "name": "stdout",
     "output_type": "stream",
     "text": [
      "[Row(subreddit='AskReddit', count=70561047), Row(subreddit='memes', count=27572044), Row(subreddit='politics', count=25305408), Row(subreddit='teenagers', count=15348705), Row(subreddit='wallstreetbets', count=14124304)]"
     ]
    }
   ],
   "source": [
    "subredditNormalUser.take(5)"
   ]
  },
  {
   "cell_type": "markdown",
   "metadata": {
    "collapsed": true
   },
   "source": [
    "# Do premium users get more upvotes on their comments than non-premium user\n",
    "\n",
    "### exploratory analysis"
   ]
  },
  {
   "cell_type": "code",
   "execution_count": 7,
   "metadata": {
    "cell_status": {
     "execute_time": {
      "duration": 1596745.0961914062,
      "end_time": 1671497613622.521
     }
    }
   },
   "outputs": [
    {
     "name": "stdout",
     "output_type": "stream",
     "text": [
      "+--------------------+------------------+\n",
      "|              author|        avg(score)|\n",
      "+--------------------+------------------+\n",
      "|          Truth_Moab| 6.133333333333334|\n",
      "|           Darius510| 2.834538152610442|\n",
      "|nationalfilmandfashi|13.102316602316602|\n",
      "|        adorationn01|               1.0|\n",
      "|      Towering_Flesh|17.184647302904565|\n",
      "|         LeDocteurNo| 3.582010582010582|\n",
      "|    TuesdayJulyNever|18.933001107419713|\n",
      "|           TheApiary|7.7406015037593985|\n",
      "|           mewthulhu| 52.75672514619883|\n",
      "|       coolest-llama| 4.390977443609023|\n",
      "|            Lit3Bolt|32.717171717171716|\n",
      "|            thexvoid| 7.263500325309043|\n",
      "|       RekerOfScrubs|              8.85|\n",
      "|              Dalmah|7.2926829268292686|\n",
      "| SmallGirlBigTitties|2.7388663967611335|\n",
      "|             vaskark| 9.680232558139535|\n",
      "|           guimontag| 6.089206066012489|\n",
      "|       primetimemime| 3.888888888888889|\n",
      "|               Ohlav| 4.558139534883721|\n",
      "|         coin_return| 6.849658314350798|\n",
      "+--------------------+------------------+\n",
      "only showing top 20 rows"
     ]
    }
   ],
   "source": [
    "averageScoreOfPostsPremium = premiumAuthors.groupBy(premiumAuthors.author)\\\n",
    "                                .agg(avg(col(\"score\")))\n",
    "                                \n",
    "# averageScoreOfPostsPremium = averageScoreOfPostsPremium.agg(avg(col(\"count\")))\n",
    "averageScoreOfPostsPremium.show()"
   ]
  },
  {
   "cell_type": "code",
   "execution_count": 6,
   "metadata": {
    "cell_status": {
     "execute_time": {
      "duration": 1518476.4870605469,
      "end_time": 1671522970510.715
     }
    }
   },
   "outputs": [
    {
     "name": "stdout",
     "output_type": "stream",
     "text": [
      "+-----------------+\n",
      "|  sum(avg(score))|\n",
      "+-----------------+\n",
      "|6417827.648984599|\n",
      "+-----------------+"
     ]
    }
   ],
   "source": [
    "averageScoreOfPostsPremium = premiumAuthors.groupBy(premiumAuthors.author)\\\n",
    "                                .agg(avg(col(\"score\")))\\\n",
    "                                .agg(sum(col(\"avg(score)\")))\\\n",
    "                                .show()"
   ]
  },
  {
   "cell_type": "code",
   "execution_count": 7,
   "metadata": {
    "cell_status": {
     "execute_time": {
      "duration": 1523443.4619140625,
      "end_time": 1671525943799.537
     }
    }
   },
   "outputs": [
    {
     "name": "stdout",
     "output_type": "stream",
     "text": [
      "+------------------+\n",
      "|   avg(avg(score))|\n",
      "+------------------+\n",
      "|11.382356074390957|\n",
      "+------------------+"
     ]
    }
   ],
   "source": [
    "averageScoreOfPostsPremium = premiumAuthors.groupBy(premiumAuthors.author)\\\n",
    "                                .agg(avg(col(\"score\")))\\\n",
    "                                .agg(avg(col(\"avg(score)\")))\\\n",
    "                                .show()"
   ]
  },
  {
   "cell_type": "code",
   "execution_count": 8,
   "metadata": {
    "cell_status": {
     "execute_time": {
      "duration": 1889534.0830078125,
      "end_time": 1671527833351.141
     }
    }
   },
   "outputs": [
    {
     "name": "stdout",
     "output_type": "stream",
     "text": [
      "+--------------------+\n",
      "|     sum(avg(score))|\n",
      "+--------------------+\n",
      "|1.3737728460159978E8|\n",
      "+--------------------+"
     ]
    }
   ],
   "source": [
    "averageScoreOfPostsNormal = nonPremiumAuthors.groupBy(nonPremiumAuthors.author)\\\n",
    "                                .agg(avg(col(\"score\")))\\\n",
    "                                .agg(sum(col(\"avg(score)\")))\\\n",
    "                                .show()"
   ]
  },
  {
   "cell_type": "code",
   "execution_count": 9,
   "metadata": {
    "cell_status": {
     "execute_time": {
      "duration": 2025168.8198242188,
      "end_time": 1671529858535.053
     }
    }
   },
   "outputs": [
    {
     "name": "stdout",
     "output_type": "stream",
     "text": [
      "+-----------------+\n",
      "|  avg(avg(score))|\n",
      "+-----------------+\n",
      "|4.678692483660346|\n",
      "+-----------------+"
     ]
    }
   ],
   "source": [
    "averageScoreOfPostsNormal = nonPremiumAuthors.groupBy(nonPremiumAuthors.author)\\\n",
    "                                .agg(avg(col(\"score\")))\\\n",
    "                                .agg(avg(col(\"avg(score)\")))\\\n",
    "                                .show()"
   ]
  },
  {
   "cell_type": "markdown",
   "metadata": {},
   "source": [
    "# Output\n",
    "\n",
    "As you can see from above the avg score of a normal user is 4.67 and a premium user is 11.38. That is fitting with rest of the analysis we have done\n",
    "\n",
    "This notebook is a bit messy, but the next few cells are just me playing around"
   ]
  },
  {
   "cell_type": "code",
   "execution_count": 5,
   "metadata": {
    "cell_status": {
     "execute_time": {
      "duration": 1386638.1440429688,
      "end_time": 1671501586879.089
     }
    }
   },
   "outputs": [
    {
     "name": "stdout",
     "output_type": "stream",
     "text": [
      "[Row(author='JayzTwoCents', avg(score)=21467.0), Row(author='Poldorovskij', avg(score)=17305.5), Row(author='FrontButtPunt', avg(score)=11770.0), Row(author='Borat', avg(score)=10955.130434782608), Row(author='Bowgoog71', avg(score)=10701.666666666666)]"
     ]
    }
   ],
   "source": [
    "averageScoreOfPostsPremium.take(5)"
   ]
  },
  {
   "cell_type": "code",
   "execution_count": 8,
   "metadata": {
    "cell_status": {
     "execute_time": {
      "duration": 1619293.1918945312,
      "end_time": 1671499233014.42
     }
    }
   },
   "outputs": [
    {
     "name": "stdout",
     "output_type": "stream",
     "text": [
      "+--------------------+------------------+\n",
      "|              author|        avg(score)|\n",
      "+--------------------+------------------+\n",
      "|    hope_still_flies|2.1715210355987056|\n",
      "|      CarmenFandango| 46.58226924480117|\n",
      "|   GorillaGlueWookie|10.679297597042513|\n",
      "|              Morwon|               7.6|\n",
      "|            Ghosty66| 8.970967741935484|\n",
      "|collegiatecollegeguy| 6.290094654046127|\n",
      "|            Boko_Met|3.0483870967741935|\n",
      "|           gncurrier|16.014102241249056|\n",
      "|         strangefolk|11.850987432675044|\n",
      "|    Thin-Course-4054| 5.326530612244898|\n",
      "|           matrix556|1.5714285714285714|\n",
      "|          hulapookie|  4.50531914893617|\n",
      "|  ChampionOfKirkwall|  10.5739357729649|\n",
      "|  a_rather_quiet_one| 7.170731707317073|\n",
      "|         xXsquanchXx| 9.973033707865168|\n",
      "|      SkollFenrirson|17.047824980920886|\n",
      "|            librious|5.8891454965357966|\n",
      "|          tinybull65|1.2239057239057238|\n",
      "|            leahcars| 2.269230769230769|\n",
      "|           Malavin81| 3.633093525179856|\n",
      "+--------------------+------------------+\n",
      "only showing top 20 rows"
     ]
    }
   ],
   "source": [
    "averageNumberOfPostsNormal = nonPremiumAuthors.groupBy(nonPremiumAuthors.author)\\\n",
    "                                .agg(avg(col(\"score\")))\n",
    "\n",
    "averageNumberOfPostsNormal.show()"
   ]
  },
  {
   "cell_type": "code",
   "execution_count": 6,
   "metadata": {
    "cell_status": {
     "execute_time": {
      "duration": 1600307.2529296875,
      "end_time": 1671503187201.891
     }
    }
   },
   "outputs": [
    {
     "name": "stdout",
     "output_type": "stream",
     "text": [
      "[Row(author='confusedbarney', avg(score)=60843.0), Row(author='WilletteKinoshita', avg(score)=48916.0), Row(author='KynanArroyo', avg(score)=45922.0), Row(author='FernandeWorm', avg(score)=41584.0), Row(author='pasomider', avg(score)=37709.0)]"
     ]
    }
   ],
   "source": [
    "averageNumberOfPostsNormal = nonPremiumAuthors.groupBy(nonPremiumAuthors.author)\\\n",
    "                                .agg(avg(col(\"score\")))\\\n",
    "                                .sort(desc(col(\"avg(score)\")))\n",
    "\n",
    "averageNumberOfPostsNormal.take(5)"
   ]
  }
 ],
 "metadata": {
  "kernelspec": {
   "display_name": "Python 3",
   "language": "python",
   "name": "python3"
  },
  "language_info": {
   "codemirror_mode": {
    "name": "ipython",
    "version": 3
   },
   "file_extension": ".py",
   "mimetype": "text/x-python",
   "name": "python",
   "nbconvert_exporter": "python",
   "pygments_lexer": "ipython3",
   "version": "3.8.8"
  }
 },
 "nbformat": 4,
 "nbformat_minor": 2
}
